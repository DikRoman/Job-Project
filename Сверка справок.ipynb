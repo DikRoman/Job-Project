{
 "cells": [
  {
   "cell_type": "markdown",
   "id": "e2132799",
   "metadata": {},
   "source": [
    "### Сверка по справкам (условным начислениям), импортированных в журнал проводок 1С.\n",
    "\n",
    "##### Полуавтоматический контроль.\n",
    "\n",
    "Описание:\n",
    "1) pl - \"плоский\" (журнал проводок)\n",
    "\n",
    "2) df1 - Бонус Малус\n",
    "\n",
    "3) df3 - Справка резерв зарплаты водителей\n",
    "\n",
    "Также по аналогии можно добавлять иные справки.\n",
    "\n",
    "Логика работы следующая: Мы берем наименования справок, которые хотим проверить, фильтруем определенную колонку в Журнале проводок  по наименованию и записывает на отдельный лист. На другой лист записываем непосредственно справку. \n",
    "После сохранения файла  - идем в него и вручную проверяем корретность занесения статей затрат, сумм, кост-центров, наименования контргагентов."
   ]
  },
  {
   "cell_type": "code",
   "execution_count": 17,
   "id": "e55725ce",
   "metadata": {},
   "outputs": [],
   "source": [
    "import pandas as pd\n",
    "from datetime import datetime\n",
    "from pathlib import Path\n",
    "import openpyxl"
   ]
  },
  {
   "cell_type": "code",
   "execution_count": 2,
   "id": "49c7a715",
   "metadata": {},
   "outputs": [],
   "source": [
    "#Сначала читаем плоский\n",
    "pl = pd.read_excel(r'S:\\Actual\\Controlling\\Плоский для P&L_2022.xlsm', sheet_name='P&L')"
   ]
  },
  {
   "cell_type": "markdown",
   "id": "9e727154",
   "metadata": {},
   "source": [
    "### 01 Бонус-малус 2022 12.xlsx"
   ]
  },
  {
   "cell_type": "code",
   "execution_count": 3,
   "id": "ebdd044e",
   "metadata": {},
   "outputs": [
    {
     "name": "stdout",
     "output_type": "stream",
     "text": [
      "Enter the name of the file: 01 Бонус-малус 2022 12.xlsx\n"
     ]
    }
   ],
   "source": [
    "#указываем путь к папке со справками\n",
    "file_path = Path(r\"S:\\Actual\\_Reporting 2022\\22 12\\Trs\\УН\") \n",
    "\n",
    "#в появившемся окне вводим название необходимой справки по которой будем фильтровать таблицу\n",
    "file_name = input(\"Enter the name of the file: \")  \n",
    "file = file_path / file_name\n",
    "\n",
    "#Читаем справку, записываем в переменную\n",
    "df1 = pd.read_excel(file)\n",
    "\n",
    "# remove top 4 rows\n",
    "df1 = df1.iloc[4:]"
   ]
  },
  {
   "cell_type": "code",
   "execution_count": 4,
   "id": "a61787f1",
   "metadata": {},
   "outputs": [],
   "source": [
    "# 2) Filter another table by it\n",
    "\n",
    "filtered_pl_1 = pl[pl['Комментарий'].notna() & pl['Комментарий'].str.contains(file_name)]"
   ]
  },
  {
   "cell_type": "markdown",
   "id": "cdd3922b",
   "metadata": {},
   "source": [
    "### 00 Справка резерв зарплаты водителей 2022 12"
   ]
  },
  {
   "cell_type": "code",
   "execution_count": 25,
   "id": "b2c497b1",
   "metadata": {},
   "outputs": [
    {
     "name": "stdout",
     "output_type": "stream",
     "text": [
      "Enter the name of the file: 00 Справка резерв зарплаты водителей 2022 12.xlsx\n"
     ]
    }
   ],
   "source": [
    "file_name_3 = input(\"Enter the name of the file: \")\n",
    "file_3 = file_path / file_name_3\n",
    "\n",
    "df3 = pd.read_excel(file_3)\n"
   ]
  },
  {
   "cell_type": "code",
   "execution_count": 6,
   "id": "d206c437",
   "metadata": {},
   "outputs": [],
   "source": [
    "# 2) Filter another table by it\n",
    "\n",
    "filtered_pl_2 = pl[pl['Комментарий'].notna() & pl['Комментарий'].str.contains(file_name_3)]"
   ]
  },
  {
   "cell_type": "markdown",
   "id": "b6458345",
   "metadata": {},
   "source": [
    "## 02 рекласс T-T0 202Х"
   ]
  },
  {
   "cell_type": "code",
   "execution_count": 43,
   "id": "a92f25f0",
   "metadata": {},
   "outputs": [
    {
     "name": "stdout",
     "output_type": "stream",
     "text": [
      "Enter the name of the file: 02 рекласс T-T0 2022 12_New.xlsx\n"
     ]
    }
   ],
   "source": [
    "file_name_4 = input(\"Enter the name of the file: \")\n",
    "file_4 = file_path / file_name_4\n",
    "\n",
    "df4 = pd.read_excel(file_4)\n"
   ]
  },
  {
   "cell_type": "code",
   "execution_count": 44,
   "id": "65142f76",
   "metadata": {},
   "outputs": [
    {
     "data": {
      "text/html": [
       "<div>\n",
       "<style scoped>\n",
       "    .dataframe tbody tr th:only-of-type {\n",
       "        vertical-align: middle;\n",
       "    }\n",
       "\n",
       "    .dataframe tbody tr th {\n",
       "        vertical-align: top;\n",
       "    }\n",
       "\n",
       "    .dataframe thead th {\n",
       "        text-align: right;\n",
       "    }\n",
       "</style>\n",
       "<table border=\"1\" class=\"dataframe\">\n",
       "  <thead>\n",
       "    <tr style=\"text-align: right;\">\n",
       "      <th>4</th>\n",
       "      <th>№ п/п</th>\n",
       "      <th>Контрагент / Заказчик</th>\n",
       "      <th>Номенклатура / Наименование</th>\n",
       "      <th>Сумма</th>\n",
       "      <th>Кост-центр</th>\n",
       "      <th>Счет</th>\n",
       "      <th>Аналитика</th>\n",
       "      <th>Статья затрат</th>\n",
       "      <th>Расчетная сумма\\nНе выводиться на печать</th>\n",
       "    </tr>\n",
       "  </thead>\n",
       "  <tbody>\n",
       "    <tr>\n",
       "      <th>4</th>\n",
       "      <td>№ п/п</td>\n",
       "      <td>Контрагент / Заказчик</td>\n",
       "      <td>Номенклатура / Наименование</td>\n",
       "      <td>Сумма</td>\n",
       "      <td>Кост-центр</td>\n",
       "      <td>Счет</td>\n",
       "      <td>Аналитика</td>\n",
       "      <td>Статья затрат</td>\n",
       "      <td>Расчетная сумма\\nНе выводиться на печать</td>\n",
       "    </tr>\n",
       "    <tr>\n",
       "      <th>5</th>\n",
       "      <td>1</td>\n",
       "      <td>УСЛ_Корректировка</td>\n",
       "      <td>УСЛ_Корректировка</td>\n",
       "      <td>-2901.94</td>\n",
       "      <td>041_RCE1070_NOTABLE_BE_T Топливо</td>\n",
       "      <td>У20</td>\n",
       "      <td>Данон</td>\n",
       "      <td>ГСМ (Ad blue)</td>\n",
       "      <td>-2901.94</td>\n",
       "    </tr>\n",
       "    <tr>\n",
       "      <th>6</th>\n",
       "      <td>2</td>\n",
       "      <td>УСЛ_Корректировка</td>\n",
       "      <td>УСЛ_Корректировка</td>\n",
       "      <td>2901.94</td>\n",
       "      <td>041_RCE1070_NOTABLE_BE_T0 Топливо</td>\n",
       "      <td>У20</td>\n",
       "      <td>Данон</td>\n",
       "      <td>ГСМ (Ad blue)</td>\n",
       "      <td>2901.94</td>\n",
       "    </tr>\n",
       "  </tbody>\n",
       "</table>\n",
       "</div>"
      ],
      "text/plain": [
       "4  № п/п  Контрагент / Заказчик  Номенклатура / Наименование    Сумма  \\\n",
       "4  № п/п  Контрагент / Заказчик  Номенклатура / Наименование    Сумма   \n",
       "5      1      УСЛ_Корректировка            УСЛ_Корректировка -2901.94   \n",
       "6      2      УСЛ_Корректировка            УСЛ_Корректировка  2901.94   \n",
       "\n",
       "4                         Кост-центр  Счет  Аналитика  Статья затрат  \\\n",
       "4                         Кост-центр  Счет  Аналитика  Статья затрат   \n",
       "5   041_RCE1070_NOTABLE_BE_T Топливо   У20      Данон  ГСМ (Ad blue)   \n",
       "6  041_RCE1070_NOTABLE_BE_T0 Топливо   У20      Данон  ГСМ (Ad blue)   \n",
       "\n",
       "4  Расчетная сумма\\nНе выводиться на печать  \n",
       "4  Расчетная сумма\\nНе выводиться на печать  \n",
       "5                                  -2901.94  \n",
       "6                                   2901.94  "
      ]
     },
     "execution_count": 44,
     "metadata": {},
     "output_type": "execute_result"
    }
   ],
   "source": [
    "# remove top 4 rows\n",
    "df4.columns = df4.iloc[4]\n",
    "df4 = df4.iloc[4:]\n",
    "\n",
    "df4.head(3)"
   ]
  },
  {
   "cell_type": "code",
   "execution_count": 8,
   "id": "bf2b31ce",
   "metadata": {},
   "outputs": [],
   "source": [
    "# 2) Filter another table by it\n",
    "\n",
    "filtered_pl_4 = pl[pl['Комментарий'].notna() & pl['Комментарий'].str.contains(file_name_4)]"
   ]
  },
  {
   "cell_type": "code",
   "execution_count": null,
   "id": "f36cd3ba",
   "metadata": {},
   "outputs": [],
   "source": []
  },
  {
   "cell_type": "markdown",
   "id": "9967bebb",
   "metadata": {},
   "source": [
    "## 04 рекласс Subco 202Х"
   ]
  },
  {
   "cell_type": "code",
   "execution_count": 9,
   "id": "ec7e2fc5",
   "metadata": {},
   "outputs": [
    {
     "name": "stdout",
     "output_type": "stream",
     "text": [
      "Enter the name of the file: 04 рекласс Subco 2022 12_V0.xlsx\n"
     ]
    }
   ],
   "source": [
    "file_name_5 = input(\"Enter the name of the file: \")\n",
    "file_5 = file_path / file_name_5\n",
    "\n",
    "df5 = pd.read_excel(file_5)\n",
    "\n",
    "# remove top 4 rows\n",
    "df5 = df5.iloc[4:]"
   ]
  },
  {
   "cell_type": "code",
   "execution_count": 10,
   "id": "6ba2b212",
   "metadata": {},
   "outputs": [],
   "source": [
    "# 2) Filter another table by it\n",
    "\n",
    "filtered_pl_5 = pl[pl['Комментарий'].notna() & pl['Комментарий'].str.contains(file_name_5)]"
   ]
  },
  {
   "cell_type": "code",
   "execution_count": null,
   "id": "4a3c74df",
   "metadata": {},
   "outputs": [],
   "source": []
  },
  {
   "cell_type": "markdown",
   "id": "1007ed3e",
   "metadata": {},
   "source": [
    "## Объединим все датафреймы в один excel файл"
   ]
  },
  {
   "cell_type": "code",
   "execution_count": 14,
   "id": "28de65de",
   "metadata": {},
   "outputs": [],
   "source": [
    "#Объедините фреймы данных в один файл Excel на разных листах\n",
    "\n",
    "with pd.ExcelWriter(r\"S:\\Actual\\_Reporting 2022\\22 12\\Trs\\УН\\combined_file.xlsx\") as writer:\n",
    "    df1.to_excel(writer, sheet_name='01_БонусМ')\n",
    "    filtered_pl_1.to_excel(writer, sheet_name='Плоский_БМ')\n",
    "    df3.to_excel(writer, sheet_name='Спр_УН_зп_вод')\n",
    "    filtered_pl_2.to_excel(writer, sheet_name='Плоский_ЗП_вод')\n",
    "    df4.to_excel(writer, sheet_name='Спр_02_реклассТ_Т0')\n",
    "    filtered_pl_4.to_excel(writer, sheet_name='Плоский_02_рекласс_T-T0')\n",
    "    df5.to_excel(writer, sheet_name='Спр_04_рекласс_Subco')\n",
    "    filtered_pl_5.to_excel(writer, sheet_name='Плоский_04 рекласс_Subco')\n",
    "    \n",
    "    \n",
    "# Этот код использует класс pd.ExcelWriter для создания файла Excel \n",
    "# с указанным путем к файлу (r \"S:\\Actual\\_Reporting 2022\\22 12\\Trs\\УН\\combined_file.xlsx\") \n",
    "# и записи нескольких DataFrames на разные листы файла Excel \n",
    "    \n"
   ]
  },
  {
   "cell_type": "markdown",
   "id": "6277ca17",
   "metadata": {},
   "source": [
    "#### Форматирование файла - добавление шрифтов и т.д."
   ]
  },
  {
   "cell_type": "code",
   "execution_count": 22,
   "id": "e013a5f8",
   "metadata": {},
   "outputs": [],
   "source": [
    "# Загрузим файл Excel\n",
    "workbook = openpyxl.load_workbook(r\"S:\\Actual\\_Reporting 2022\\22 12\\Trs\\УН\\combined_file.xlsx\")\n",
    "\n",
    "# Определим величину шрифта\n",
    "font = openpyxl.styles.fonts.Font(size=9)\n",
    "\n",
    "# Пройдемся циклом по всем листам рабочей книги\n",
    "for sheet in workbook:\n",
    "    # Установим шрифт\n",
    "    sheet.sheet_properties.pageSetUpPr.fitToPage = True\n",
    "    sheet.sheet_properties.pageSetUpPr.fitToHeight = 1\n",
    "    sheet.sheet_properties.pageSetUpPr.fitToWidth = 1\n",
    "    for col in sheet.columns:\n",
    "        for cell in col:\n",
    "            cell.font = font\n",
    "    # Сохраним книгу\n",
    "    workbook.save(r\"S:\\Actual\\_Reporting 2022\\22 12\\Trs\\УН\\combined_file.xlsx\")\n"
   ]
  },
  {
   "cell_type": "code",
   "execution_count": null,
   "id": "54671af3",
   "metadata": {},
   "outputs": [],
   "source": []
  }
 ],
 "metadata": {
  "kernelspec": {
   "display_name": "Python 3 (ipykernel)",
   "language": "python",
   "name": "python3"
  },
  "language_info": {
   "codemirror_mode": {
    "name": "ipython",
    "version": 3
   },
   "file_extension": ".py",
   "mimetype": "text/x-python",
   "name": "python",
   "nbconvert_exporter": "python",
   "pygments_lexer": "ipython3",
   "version": "3.9.7"
  }
 },
 "nbformat": 4,
 "nbformat_minor": 5
}
