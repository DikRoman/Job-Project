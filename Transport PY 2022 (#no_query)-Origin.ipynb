{
 "cells": [
  {
   "cell_type": "markdown",
   "id": "0596f34f",
   "metadata": {},
   "source": [
    "# Transport File"
   ]
  },
  {
   "cell_type": "markdown",
   "id": "5ea1a729",
   "metadata": {},
   "source": [
    "Настоящая обработка создана как аналог файла \"Transport 22 XX with query\", и, при необходимости, результаты могут быть сверены и должны быть идентичны друг другу\n",
    "*(прим. автора)*"
   ]
  },
  {
   "cell_type": "code",
   "execution_count": 1,
   "id": "61f3be73",
   "metadata": {},
   "outputs": [],
   "source": [
    "# Импорт модулей\n",
    "import pandas as pd\n",
    "import numpy as np\n",
    "\n",
    "from datetime import datetime, date, time\n",
    "import openpyxl\n",
    "from openpyxl import load_workbook\n",
    "\n",
    "import xlsxwriter\n",
    "\n",
    "# отключим предупреждения\n",
    "import warnings\n",
    "warnings.simplefilter('ignore')\n",
    "\n",
    "#суммы будут отражаться до второго знака\n",
    "pd.options.display.float_format = '{:,.2f}'.format "
   ]
  },
  {
   "cell_type": "markdown",
   "id": "9ed53b02",
   "metadata": {},
   "source": [
    "### Импорт данных"
   ]
  },
  {
   "cell_type": "markdown",
   "id": "6f82c074",
   "metadata": {},
   "source": [
    "Загрузим в память необходимые дата-сеты\n",
    "\n",
    "Конечно, перед началом обработки нижеуказанные файлы должны быть обновлены\n",
    "\n",
    "**!Перед началом работы обязательно проверить пути/месяцы и, при необходимости, заменить на нужные!**"
   ]
  },
  {
   "cell_type": "code",
   "execution_count": 2,
   "id": "b177fdf3",
   "metadata": {},
   "outputs": [],
   "source": [
    "#Загрузка плоского, берём лист PL\n",
    "get_pl = pd.read_excel(r\"S:\\Actual\\Controlling\\Плоский для P&L_2022.xlsm\", sheet_name = 'P&L')"
   ]
  },
  {
   "cell_type": "code",
   "execution_count": 3,
   "id": "7f00db0b",
   "metadata": {},
   "outputs": [],
   "source": [
    "#забираем лист Manually из Транспортного файла\n",
    "manually = pd.read_excel(r\"S:\\Actual\\_Reporting 2022\\22 12\\Trs\\Transport 22 12 with queryOPT.xlsx\", sheet_name = 'Manually')"
   ]
  },
  {
   "cell_type": "code",
   "execution_count": 4,
   "id": "e6742ea5",
   "metadata": {},
   "outputs": [],
   "source": [
    "uat_rev_exp = pd.read_excel(r\"S:\\Actual\\_Reporting 2022\\22 12\\Trs\\UAT 22 12_V_LTL.xlsx\", sheet_name = 'UAT_Rev&Exp')"
   ]
  },
  {
   "cell_type": "code",
   "execution_count": 5,
   "id": "2a4324fc",
   "metadata": {},
   "outputs": [],
   "source": [
    "bonus_variances = pd.read_excel(r\"S:\\Actual\\_Reporting 2022\\22 12\\Trs\\UAT_vs_UPP recon 2212.xlsx\", sheet_name = 'BonusVariance')"
   ]
  },
  {
   "cell_type": "code",
   "execution_count": 6,
   "id": "752a8339",
   "metadata": {},
   "outputs": [],
   "source": [
    "uat_statistics = pd.read_excel(r\"S:\\Actual\\_Reporting 2022\\22 12\\Trs\\UAT 22 12_V_LTL.xlsx\", sheet_name = 'UAT_Statistics')"
   ]
  },
  {
   "cell_type": "code",
   "execution_count": 7,
   "id": "dbec4f70",
   "metadata": {},
   "outputs": [],
   "source": [
    "writer = pd.ExcelWriter(r'S:\\Actual\\_Reporting 2022\\22 12\\Trs\\Transport 22_12 PY.xlsx', engine='xlsxwriter')"
   ]
  },
  {
   "cell_type": "markdown",
   "id": "5eac65f3",
   "metadata": {},
   "source": [
    "На данном этапе импорт данных завершен"
   ]
  },
  {
   "cell_type": "markdown",
   "id": "5dd4b64b",
   "metadata": {},
   "source": [
    "### Подготовка, формирование и расчет необходимых данных"
   ]
  },
  {
   "cell_type": "code",
   "execution_count": 8,
   "id": "1cbb4873",
   "metadata": {},
   "outputs": [],
   "source": [
    "#убираем ненужные дубликаты\n",
    "uat_statistics = uat_statistics.drop_duplicates(keep=False)"
   ]
  },
  {
   "cell_type": "markdown",
   "id": "d1d41132",
   "metadata": {},
   "source": [
    "На данном этапе необходимо поменять цифру месяца на текущий/нужный"
   ]
  },
  {
   "cell_type": "code",
   "execution_count": 9,
   "id": "6d0b626a",
   "metadata": {},
   "outputs": [],
   "source": [
    "month = 12  #указываем номер месяца, который необходим"
   ]
  },
  {
   "cell_type": "markdown",
   "id": "684eb1b0",
   "metadata": {},
   "source": [
    "**UPP Expenses**"
   ]
  },
  {
   "cell_type": "code",
   "execution_count": 10,
   "id": "92c5e0e1",
   "metadata": {},
   "outputs": [],
   "source": [
    "upp_expenses =  get_pl[((get_pl['Month'] == month) & (get_pl['Комментарий'] != 'Справка ОФК от 04.04.22 | Рекласс затрат | RE  02 рекласс T-T0 2022 03.msg | 02 рекласс T-T0 2022 03.xlsx') & (get_pl['BussinessType'] == 'Trs') & (get_pl['Код бизнеса'] != 'E'))]"
   ]
  },
  {
   "cell_type": "code",
   "execution_count": 11,
   "id": "57f957a0",
   "metadata": {},
   "outputs": [],
   "source": [
    "def custom1(upp_expenses):\n",
    "    if (upp_expenses['Номенклатурная группа'] == 'Данон') and (upp_expenses['Код бизнеса'] == 'T'):\n",
    "        return 'DNN T1'\n",
    "    elif (upp_expenses['Номенклатурная группа'] == 'Данон') and (upp_expenses['Код бизнеса'] == 'T0'):\n",
    "        return 'DNN Other'\n",
    "    elif (upp_expenses['Номенклатурная группа'] == 'Центральный офис') and (upp_expenses['Код бизнеса'] == 'T'):\n",
    "        return 'DNN T1'\n",
    "    elif (upp_expenses['Номенклатурная группа'] == 'Данон') and (upp_expenses['Код бизнеса'] == 'M'):\n",
    "        return 'DNN Milk'\n",
    "    elif (upp_expenses['Контрагент'] == 'Корректировка'):\n",
    "        return 'DNN T1'\n",
    "    else:\n",
    "        return upp_expenses['Контрагент']\n",
    "        \n"
   ]
  },
  {
   "cell_type": "code",
   "execution_count": 12,
   "id": "9fbbc3a5",
   "metadata": {},
   "outputs": [],
   "source": [
    "upp_expenses['Client'] = upp_expenses.apply(custom1, axis=1)"
   ]
  },
  {
   "cell_type": "code",
   "execution_count": 13,
   "id": "0bfb4b02",
   "metadata": {},
   "outputs": [],
   "source": [
    "upp_expenses = upp_expenses.groupby(['Month', 'AccType', 'Costs group', 'Номенклатурная группа', 'Client', 'Код региона', 'Код бизнеса', 'Calc items'])\\\n",
    "                  .agg({'NetAmount':'sum'})\\\n",
    "                  .reset_index()\n",
    "\n",
    "upp_expenses.rename(columns = {'Код региона' : 'Region', 'Код бизнеса' : 'Code'}, inplace = True) \n"
   ]
  },
  {
   "cell_type": "code",
   "execution_count": 14,
   "id": "34c829c0",
   "metadata": {},
   "outputs": [],
   "source": [
    "upp_expenses['Region.Code'] = upp_expenses['Region'].astype(str) + \"_\" + upp_expenses['Code'].astype(str)\n",
    "upp_expenses = upp_expenses[upp_expenses['NetAmount'] != 0]"
   ]
  },
  {
   "cell_type": "markdown",
   "id": "8c121b1e",
   "metadata": {},
   "source": [
    "**Manual**"
   ]
  },
  {
   "cell_type": "code",
   "execution_count": 15,
   "id": "73f6aa17",
   "metadata": {},
   "outputs": [],
   "source": [
    "manual = manually[[\"Source\", 'Group', 'AccType', 'Принадлежность ТС', 'Region', 'Client', 'Milk', 'DNN/MC', 'Region.Code', 'NetAmount', 'Multipl']]"
   ]
  },
  {
   "cell_type": "code",
   "execution_count": 16,
   "id": "7967df54",
   "metadata": {},
   "outputs": [],
   "source": [
    "upp_subco = manual[manual['Group'] == 'Subcontractors cost']\n",
    "upp_subco =upp_subco[['Group', 'Принадлежность ТС', 'Region', 'Client', 'Milk', 'DNN/MC', 'Region.Code', 'NetAmount']]\n",
    "upp_subco.rename(columns = {'Group' : 'Costs group', 'NetAmount' : 'Net Amount'}, inplace = True) "
   ]
  },
  {
   "cell_type": "markdown",
   "id": "128e4c1b",
   "metadata": {},
   "source": [
    "#### Расчет Bonus Variances & subcontractors_cost"
   ]
  },
  {
   "cell_type": "code",
   "execution_count": 17,
   "id": "ae693655",
   "metadata": {},
   "outputs": [],
   "source": [
    "bonus_variances = bonus_variances.groupby(['Customer', 'Region'])\\\n",
    "                  .agg({'Bonus':'sum'})\\\n",
    "                  .reset_index()"
   ]
  },
  {
   "cell_type": "code",
   "execution_count": 18,
   "id": "5e6ae6f8",
   "metadata": {},
   "outputs": [],
   "source": [
    "bonus_variances = bonus_variances.drop_duplicates() \n",
    "bonus_variances['Принадлежность ТС'] = 'Наемное'\n",
    "bonus_variances.rename(columns = {'Customer' : 'Client', 'Region' : 'Region.Code'}, inplace = True) "
   ]
  },
  {
   "cell_type": "code",
   "execution_count": 19,
   "id": "2efecdab",
   "metadata": {},
   "outputs": [],
   "source": [
    "bonus_variances['Region']=bonus_variances['Region.Code'].str.split('_').str.get(0)\n",
    "\n",
    "bonus_variances['Milk']=bonus_variances['Region.Code'].str.split('_').str.get(1)"
   ]
  },
  {
   "cell_type": "code",
   "execution_count": 20,
   "id": "25612a70",
   "metadata": {},
   "outputs": [],
   "source": [
    "subcontractor_cost = uat_rev_exp.drop('Revenue', 1)\n",
    "subcontractor_cost = subcontractor_cost[subcontractor_cost['Subcontractor Cost'] != 0]\n",
    "\n",
    "\n",
    "subco_cost = subcontractor_cost.merge(bonus_variances, left_on=['Client','Region.Code','Принадлежность ТС'],right_on = ['Client','Region.Code','Принадлежность ТС'], how='outer')"
   ]
  },
  {
   "cell_type": "code",
   "execution_count": 21,
   "id": "3d77702f",
   "metadata": {},
   "outputs": [],
   "source": [
    "subco_cost['Bonus'].fillna(0, inplace=True) #заменим пропущенные значения  на 0"
   ]
  },
  {
   "cell_type": "code",
   "execution_count": 22,
   "id": "19e978db",
   "metadata": {},
   "outputs": [],
   "source": [
    "subco_cost['Net Amount'] = subco_cost['Subcontractor Cost'] + subco_cost['Bonus']\n",
    "subco_cost['Costs group'] = 'Subcontractors cost'"
   ]
  },
  {
   "cell_type": "code",
   "execution_count": 23,
   "id": "2cfdc15b",
   "metadata": {},
   "outputs": [],
   "source": [
    "subcontractors_cost = pd.concat([subco_cost,upp_subco], sort= False, axis=0)"
   ]
  },
  {
   "cell_type": "code",
   "execution_count": null,
   "id": "2de1f353",
   "metadata": {},
   "outputs": [],
   "source": []
  },
  {
   "cell_type": "markdown",
   "id": "ee1687ac",
   "metadata": {},
   "source": [
    "#### Total TRS Revenue"
   ]
  },
  {
   "cell_type": "code",
   "execution_count": 24,
   "id": "e1016a2d",
   "metadata": {},
   "outputs": [],
   "source": [
    "uat_revenue = uat_rev_exp"
   ]
  },
  {
   "cell_type": "code",
   "execution_count": 25,
   "id": "bb196d0a",
   "metadata": {},
   "outputs": [],
   "source": [
    "uat_revenue = uat_revenue.drop(columns = ['Subcontractor Cost'],axis = 1)"
   ]
  },
  {
   "cell_type": "code",
   "execution_count": 26,
   "id": "c5e3239e",
   "metadata": {},
   "outputs": [],
   "source": [
    "uat_revenue = uat_revenue.drop(columns = ['Subcontractor Cost_'],axis = 1)"
   ]
  },
  {
   "cell_type": "code",
   "execution_count": 27,
   "id": "291d6590",
   "metadata": {},
   "outputs": [],
   "source": [
    "uat_revenue = uat_revenue[uat_revenue['Revenue'] != 0]\n",
    "uat_revenue['Source'] = 'UAT'\n",
    "uat_revenue = uat_revenue.drop_duplicates() "
   ]
  },
  {
   "cell_type": "code",
   "execution_count": 28,
   "id": "ef83937a",
   "metadata": {},
   "outputs": [],
   "source": [
    "upp_revenue = manual[manual['Group'] == 'Revenue']\n",
    "upp_revenue = upp_revenue.drop([\"Group\", \"AccType\", \"Multipl\"], 1)\n",
    "upp_revenue.rename(columns = {'NetAmount': 'Revenue'}, inplace = True) "
   ]
  },
  {
   "cell_type": "code",
   "execution_count": 29,
   "id": "7ca6b75d",
   "metadata": {},
   "outputs": [],
   "source": [
    "total_trs_revenue = pd.concat([uat_revenue, upp_revenue],axis=0)"
   ]
  },
  {
   "cell_type": "code",
   "execution_count": 30,
   "id": "1c481e36",
   "metadata": {},
   "outputs": [],
   "source": [
    "total_trs_revenue.rename(columns = {'Revenue':'Net Amount'}, inplace = True) "
   ]
  },
  {
   "cell_type": "code",
   "execution_count": 31,
   "id": "ba93df0b",
   "metadata": {},
   "outputs": [],
   "source": [
    "total_trs_revenue['Fin Amount'] = total_trs_revenue['Net Amount']\n",
    "total_trs_revenue['Type'] = 'Rev'\n",
    "total_trs_revenue['Costs group'] = 'Revenue'"
   ]
  },
  {
   "cell_type": "code",
   "execution_count": 32,
   "id": "9874c8d4",
   "metadata": {},
   "outputs": [],
   "source": [
    "total_trs_revenue = (total_trs_revenue.groupby([\"Принадлежность ТС\", \"Region\", \"Client\", \"Milk\", \"DNN/MC\", \"Region.Code\", \"Type\", \"Costs group\"])\n",
    "                    .agg({'Net Amount':'sum', 'Fin Amount':'sum'})\n",
    "                    .reset_index())"
   ]
  },
  {
   "cell_type": "markdown",
   "id": "f03ae1bd",
   "metadata": {},
   "source": [
    "#### Формирование данных по Repair and Maintenance"
   ]
  },
  {
   "cell_type": "code",
   "execution_count": 33,
   "id": "2b79ddb1",
   "metadata": {},
   "outputs": [],
   "source": [
    "repair_maintenance = upp_expenses[upp_expenses['Costs group'] == 'Repair & Maintenance'] \n"
   ]
  },
  {
   "cell_type": "code",
   "execution_count": 34,
   "id": "2c66ba3b",
   "metadata": {},
   "outputs": [],
   "source": [
    "repair_maintenance = repair_maintenance.drop('Client', 1)\n",
    "repair_maintenance = repair_maintenance.drop('Region', 1)\n",
    "repair_maintenance = repair_maintenance.drop('Code', 1)"
   ]
  },
  {
   "cell_type": "code",
   "execution_count": 35,
   "id": "00329453",
   "metadata": {},
   "outputs": [],
   "source": [
    "repair_maintenance = repair_maintenance.merge(uat_statistics, left_on=['Region.Code'],right_on = ['Region.Code'], how='outer')"
   ]
  },
  {
   "cell_type": "code",
   "execution_count": 36,
   "id": "e6b4dc53",
   "metadata": {},
   "outputs": [],
   "source": [
    "repair_maintenance = repair_maintenance[repair_maintenance['Принадлежность ТС'] == 'Собственное'] "
   ]
  },
  {
   "cell_type": "code",
   "execution_count": 37,
   "id": "b2edbce7",
   "metadata": {},
   "outputs": [],
   "source": [
    "repair_maintenance['% of Total km'] = repair_maintenance['Total km'] / repair_maintenance['Sum of Total km']\n",
    "repair_maintenance['Net Amount'] = repair_maintenance['NetAmount'] * repair_maintenance['% of Total km']"
   ]
  },
  {
   "cell_type": "code",
   "execution_count": 38,
   "id": "2012bd8d",
   "metadata": {},
   "outputs": [],
   "source": [
    "repair_maintenance = repair_maintenance[['Month', 'AccType', 'Costs group', 'Номенклатурная группа', 'Calc items', 'NetAmount', 'Region.Code', 'Принадлежность ТС', 'Region', 'Milk', 'Client', 'DNN/MC', 'Loaded km',  'Empty km',  'Total km', 'Turnover', 'Sum of Total km', 'Sum of Turnover', '% of Total km', 'Net Amount']]         "
   ]
  },
  {
   "cell_type": "markdown",
   "id": "1a5b5a51",
   "metadata": {},
   "source": [
    "#### Salary Drivers"
   ]
  },
  {
   "cell_type": "code",
   "execution_count": 39,
   "id": "4651f3f2",
   "metadata": {},
   "outputs": [],
   "source": [
    "salary_drivers = upp_expenses[upp_expenses['Costs group'] == 'Salary Drivers'] "
   ]
  },
  {
   "cell_type": "code",
   "execution_count": 40,
   "id": "83621832",
   "metadata": {},
   "outputs": [],
   "source": [
    "salary_drivers = salary_drivers.drop(['Client','Region','Code'], 1)"
   ]
  },
  {
   "cell_type": "code",
   "execution_count": 41,
   "id": "92333fb7",
   "metadata": {},
   "outputs": [],
   "source": [
    "salary_drivers = salary_drivers.merge(uat_statistics, left_on=['Region.Code'],right_on = ['Region.Code'], how='outer')"
   ]
  },
  {
   "cell_type": "code",
   "execution_count": 42,
   "id": "01ad4a8e",
   "metadata": {},
   "outputs": [
    {
     "data": {
      "text/html": [
       "<div>\n",
       "<style scoped>\n",
       "    .dataframe tbody tr th:only-of-type {\n",
       "        vertical-align: middle;\n",
       "    }\n",
       "\n",
       "    .dataframe tbody tr th {\n",
       "        vertical-align: top;\n",
       "    }\n",
       "\n",
       "    .dataframe thead th {\n",
       "        text-align: right;\n",
       "    }\n",
       "</style>\n",
       "<table border=\"1\" class=\"dataframe\">\n",
       "  <thead>\n",
       "    <tr style=\"text-align: right;\">\n",
       "      <th></th>\n",
       "      <th>Month</th>\n",
       "      <th>AccType</th>\n",
       "      <th>Costs group</th>\n",
       "      <th>Номенклатурная группа</th>\n",
       "      <th>Calc items</th>\n",
       "      <th>NetAmount</th>\n",
       "      <th>Region.Code</th>\n",
       "      <th>Принадлежность ТС</th>\n",
       "      <th>Region</th>\n",
       "      <th>Milk</th>\n",
       "      <th>...</th>\n",
       "      <th>Total km</th>\n",
       "      <th>Turnover</th>\n",
       "      <th>Sum of Total km</th>\n",
       "      <th>Sum of Turnover</th>\n",
       "      <th>Unnamed: 12</th>\n",
       "      <th>Unnamed: 13</th>\n",
       "      <th>Unnamed: 14</th>\n",
       "      <th>Unnamed: 15</th>\n",
       "      <th>Unnamed: 16</th>\n",
       "      <th>Unnamed: 17</th>\n",
       "    </tr>\n",
       "  </thead>\n",
       "  <tbody>\n",
       "    <tr>\n",
       "      <th>0</th>\n",
       "      <td>12.00</td>\n",
       "      <td>Exp</td>\n",
       "      <td>Salary Drivers</td>\n",
       "      <td>Данон</td>\n",
       "      <td>EBITDA</td>\n",
       "      <td>1,978,265.62</td>\n",
       "      <td>BE_M</td>\n",
       "      <td>Собственное</td>\n",
       "      <td>BE</td>\n",
       "      <td>M</td>\n",
       "      <td>...</td>\n",
       "      <td>184,221.00</td>\n",
       "      <td>353.15</td>\n",
       "      <td>184,221.00</td>\n",
       "      <td>353.15</td>\n",
       "      <td>NaN</td>\n",
       "      <td>NaN</td>\n",
       "      <td>NaN</td>\n",
       "      <td>NaN</td>\n",
       "      <td>NaN</td>\n",
       "      <td>NaN</td>\n",
       "    </tr>\n",
       "    <tr>\n",
       "      <th>1</th>\n",
       "      <td>12.00</td>\n",
       "      <td>Exp</td>\n",
       "      <td>Salary Drivers</td>\n",
       "      <td>Данон</td>\n",
       "      <td>EBITDA</td>\n",
       "      <td>1,520,238.67</td>\n",
       "      <td>YA_M</td>\n",
       "      <td>Собственное</td>\n",
       "      <td>YA</td>\n",
       "      <td>M</td>\n",
       "      <td>...</td>\n",
       "      <td>114,391.00</td>\n",
       "      <td>272.63</td>\n",
       "      <td>114,391.00</td>\n",
       "      <td>272.63</td>\n",
       "      <td>NaN</td>\n",
       "      <td>NaN</td>\n",
       "      <td>NaN</td>\n",
       "      <td>NaN</td>\n",
       "      <td>NaN</td>\n",
       "      <td>NaN</td>\n",
       "    </tr>\n",
       "    <tr>\n",
       "      <th>2</th>\n",
       "      <td>12.00</td>\n",
       "      <td>Exp</td>\n",
       "      <td>Salary Drivers</td>\n",
       "      <td>Данон</td>\n",
       "      <td>EBITDA</td>\n",
       "      <td>20,550,992.11</td>\n",
       "      <td>BE_T</td>\n",
       "      <td>Собственное</td>\n",
       "      <td>BE</td>\n",
       "      <td>T</td>\n",
       "      <td>...</td>\n",
       "      <td>14,295.00</td>\n",
       "      <td>16.32</td>\n",
       "      <td>1,384,723.90</td>\n",
       "      <td>2,556.70</td>\n",
       "      <td>NaN</td>\n",
       "      <td>NaN</td>\n",
       "      <td>NaN</td>\n",
       "      <td>DNN T1</td>\n",
       "      <td>2,924,409.50</td>\n",
       "      <td>NaN</td>\n",
       "    </tr>\n",
       "    <tr>\n",
       "      <th>3</th>\n",
       "      <td>12.00</td>\n",
       "      <td>Exp</td>\n",
       "      <td>Salary Drivers</td>\n",
       "      <td>Данон</td>\n",
       "      <td>EBITDA</td>\n",
       "      <td>20,550,992.11</td>\n",
       "      <td>BE_T</td>\n",
       "      <td>Собственное</td>\n",
       "      <td>BE</td>\n",
       "      <td>T</td>\n",
       "      <td>...</td>\n",
       "      <td>13,301.00</td>\n",
       "      <td>33.95</td>\n",
       "      <td>1,384,723.90</td>\n",
       "      <td>2,556.70</td>\n",
       "      <td>NaN</td>\n",
       "      <td>NaN</td>\n",
       "      <td>NaN</td>\n",
       "      <td>DNN Other</td>\n",
       "      <td>57254</td>\n",
       "      <td>NaN</td>\n",
       "    </tr>\n",
       "    <tr>\n",
       "      <th>4</th>\n",
       "      <td>12.00</td>\n",
       "      <td>Exp</td>\n",
       "      <td>Salary Drivers</td>\n",
       "      <td>Данон</td>\n",
       "      <td>EBITDA</td>\n",
       "      <td>20,550,992.11</td>\n",
       "      <td>BE_T</td>\n",
       "      <td>Собственное</td>\n",
       "      <td>BE</td>\n",
       "      <td>T</td>\n",
       "      <td>...</td>\n",
       "      <td>24,871.00</td>\n",
       "      <td>56.70</td>\n",
       "      <td>1,384,723.90</td>\n",
       "      <td>2,556.70</td>\n",
       "      <td>NaN</td>\n",
       "      <td>NaN</td>\n",
       "      <td>NaN</td>\n",
       "      <td>LTL</td>\n",
       "      <td>0</td>\n",
       "      <td>NaN</td>\n",
       "    </tr>\n",
       "    <tr>\n",
       "      <th>...</th>\n",
       "      <td>...</td>\n",
       "      <td>...</td>\n",
       "      <td>...</td>\n",
       "      <td>...</td>\n",
       "      <td>...</td>\n",
       "      <td>...</td>\n",
       "      <td>...</td>\n",
       "      <td>...</td>\n",
       "      <td>...</td>\n",
       "      <td>...</td>\n",
       "      <td>...</td>\n",
       "      <td>...</td>\n",
       "      <td>...</td>\n",
       "      <td>...</td>\n",
       "      <td>...</td>\n",
       "      <td>...</td>\n",
       "      <td>...</td>\n",
       "      <td>...</td>\n",
       "      <td>...</td>\n",
       "      <td>...</td>\n",
       "      <td>...</td>\n",
       "    </tr>\n",
       "    <tr>\n",
       "      <th>113</th>\n",
       "      <td>12.00</td>\n",
       "      <td>Exp</td>\n",
       "      <td>Salary Drivers</td>\n",
       "      <td>Данон</td>\n",
       "      <td>EBITDA</td>\n",
       "      <td>7,724,107.06</td>\n",
       "      <td>YA_T</td>\n",
       "      <td>Арендованное</td>\n",
       "      <td>YA</td>\n",
       "      <td>T</td>\n",
       "      <td>...</td>\n",
       "      <td>5,970.00</td>\n",
       "      <td>13.63</td>\n",
       "      <td>156,248.00</td>\n",
       "      <td>306.94</td>\n",
       "      <td>NaN</td>\n",
       "      <td>NaN</td>\n",
       "      <td>NaN</td>\n",
       "      <td>NaN</td>\n",
       "      <td>NaN</td>\n",
       "      <td>NaN</td>\n",
       "    </tr>\n",
       "    <tr>\n",
       "      <th>114</th>\n",
       "      <td>12.00</td>\n",
       "      <td>Exp</td>\n",
       "      <td>Salary Drivers</td>\n",
       "      <td>Данон</td>\n",
       "      <td>EBITDA</td>\n",
       "      <td>7,724,107.06</td>\n",
       "      <td>YA_T</td>\n",
       "      <td>Арендованное</td>\n",
       "      <td>YA</td>\n",
       "      <td>T</td>\n",
       "      <td>...</td>\n",
       "      <td>9,689.00</td>\n",
       "      <td>28.80</td>\n",
       "      <td>156,248.00</td>\n",
       "      <td>306.94</td>\n",
       "      <td>NaN</td>\n",
       "      <td>NaN</td>\n",
       "      <td>NaN</td>\n",
       "      <td>NaN</td>\n",
       "      <td>NaN</td>\n",
       "      <td>NaN</td>\n",
       "    </tr>\n",
       "    <tr>\n",
       "      <th>115</th>\n",
       "      <td>12.00</td>\n",
       "      <td>Exp</td>\n",
       "      <td>Salary Drivers</td>\n",
       "      <td>Данон</td>\n",
       "      <td>EBITDA</td>\n",
       "      <td>7,724,107.06</td>\n",
       "      <td>YA_T</td>\n",
       "      <td>Арендованное</td>\n",
       "      <td>YA</td>\n",
       "      <td>T</td>\n",
       "      <td>...</td>\n",
       "      <td>15,611.00</td>\n",
       "      <td>26.87</td>\n",
       "      <td>156,248.00</td>\n",
       "      <td>306.94</td>\n",
       "      <td>NaN</td>\n",
       "      <td>NaN</td>\n",
       "      <td>NaN</td>\n",
       "      <td>NaN</td>\n",
       "      <td>NaN</td>\n",
       "      <td>NaN</td>\n",
       "    </tr>\n",
       "    <tr>\n",
       "      <th>116</th>\n",
       "      <td>12.00</td>\n",
       "      <td>Exp</td>\n",
       "      <td>Salary Drivers</td>\n",
       "      <td>Данон</td>\n",
       "      <td>EBITDA</td>\n",
       "      <td>7,724,107.06</td>\n",
       "      <td>YA_T</td>\n",
       "      <td>Арендованное</td>\n",
       "      <td>YA</td>\n",
       "      <td>T</td>\n",
       "      <td>...</td>\n",
       "      <td>1,618.00</td>\n",
       "      <td>3.57</td>\n",
       "      <td>156,248.00</td>\n",
       "      <td>306.94</td>\n",
       "      <td>NaN</td>\n",
       "      <td>NaN</td>\n",
       "      <td>NaN</td>\n",
       "      <td>NaN</td>\n",
       "      <td>NaN</td>\n",
       "      <td>NaN</td>\n",
       "    </tr>\n",
       "    <tr>\n",
       "      <th>117</th>\n",
       "      <td>NaN</td>\n",
       "      <td>NaN</td>\n",
       "      <td>NaN</td>\n",
       "      <td>NaN</td>\n",
       "      <td>NaN</td>\n",
       "      <td>NaN</td>\n",
       "      <td>SP_T</td>\n",
       "      <td>Собственное</td>\n",
       "      <td>SP</td>\n",
       "      <td>T</td>\n",
       "      <td>...</td>\n",
       "      <td>0.00</td>\n",
       "      <td>0.00</td>\n",
       "      <td>0.00</td>\n",
       "      <td>0.00</td>\n",
       "      <td>NaN</td>\n",
       "      <td>NaN</td>\n",
       "      <td>NaN</td>\n",
       "      <td>NaN</td>\n",
       "      <td>NaN</td>\n",
       "      <td>NaN</td>\n",
       "    </tr>\n",
       "  </tbody>\n",
       "</table>\n",
       "<p>118 rows × 24 columns</p>\n",
       "</div>"
      ],
      "text/plain": [
       "     Month AccType     Costs group Номенклатурная группа Calc items  \\\n",
       "0    12.00     Exp  Salary Drivers                 Данон     EBITDA   \n",
       "1    12.00     Exp  Salary Drivers                 Данон     EBITDA   \n",
       "2    12.00     Exp  Salary Drivers                 Данон     EBITDA   \n",
       "3    12.00     Exp  Salary Drivers                 Данон     EBITDA   \n",
       "4    12.00     Exp  Salary Drivers                 Данон     EBITDA   \n",
       "..     ...     ...             ...                   ...        ...   \n",
       "113  12.00     Exp  Salary Drivers                 Данон     EBITDA   \n",
       "114  12.00     Exp  Salary Drivers                 Данон     EBITDA   \n",
       "115  12.00     Exp  Salary Drivers                 Данон     EBITDA   \n",
       "116  12.00     Exp  Salary Drivers                 Данон     EBITDA   \n",
       "117    NaN     NaN             NaN                   NaN        NaN   \n",
       "\n",
       "        NetAmount Region.Code Принадлежность ТС Region Milk  ...   Total km  \\\n",
       "0    1,978,265.62        BE_M       Собственное     BE    M  ... 184,221.00   \n",
       "1    1,520,238.67        YA_M       Собственное     YA    M  ... 114,391.00   \n",
       "2   20,550,992.11        BE_T       Собственное     BE    T  ...  14,295.00   \n",
       "3   20,550,992.11        BE_T       Собственное     BE    T  ...  13,301.00   \n",
       "4   20,550,992.11        BE_T       Собственное     BE    T  ...  24,871.00   \n",
       "..            ...         ...               ...    ...  ...  ...        ...   \n",
       "113  7,724,107.06        YA_T      Арендованное     YA    T  ...   5,970.00   \n",
       "114  7,724,107.06        YA_T      Арендованное     YA    T  ...   9,689.00   \n",
       "115  7,724,107.06        YA_T      Арендованное     YA    T  ...  15,611.00   \n",
       "116  7,724,107.06        YA_T      Арендованное     YA    T  ...   1,618.00   \n",
       "117           NaN        SP_T       Собственное     SP    T  ...       0.00   \n",
       "\n",
       "    Turnover  Sum of Total km  Sum of Turnover  Unnamed: 12  Unnamed: 13  \\\n",
       "0     353.15       184,221.00           353.15          NaN          NaN   \n",
       "1     272.63       114,391.00           272.63          NaN          NaN   \n",
       "2      16.32     1,384,723.90         2,556.70          NaN          NaN   \n",
       "3      33.95     1,384,723.90         2,556.70          NaN          NaN   \n",
       "4      56.70     1,384,723.90         2,556.70          NaN          NaN   \n",
       "..       ...              ...              ...          ...          ...   \n",
       "113    13.63       156,248.00           306.94          NaN          NaN   \n",
       "114    28.80       156,248.00           306.94          NaN          NaN   \n",
       "115    26.87       156,248.00           306.94          NaN          NaN   \n",
       "116     3.57       156,248.00           306.94          NaN          NaN   \n",
       "117     0.00             0.00             0.00          NaN          NaN   \n",
       "\n",
       "     Unnamed: 14  Unnamed: 15  Unnamed: 16  Unnamed: 17  \n",
       "0            NaN          NaN          NaN          NaN  \n",
       "1            NaN          NaN          NaN          NaN  \n",
       "2            NaN       DNN T1 2,924,409.50          NaN  \n",
       "3            NaN    DNN Other        57254          NaN  \n",
       "4            NaN          LTL            0          NaN  \n",
       "..           ...          ...          ...          ...  \n",
       "113          NaN          NaN          NaN          NaN  \n",
       "114          NaN          NaN          NaN          NaN  \n",
       "115          NaN          NaN          NaN          NaN  \n",
       "116          NaN          NaN          NaN          NaN  \n",
       "117          NaN          NaN          NaN          NaN  \n",
       "\n",
       "[118 rows x 24 columns]"
      ]
     },
     "execution_count": 42,
     "metadata": {},
     "output_type": "execute_result"
    }
   ],
   "source": [
    "salary_drivers"
   ]
  },
  {
   "cell_type": "code",
   "execution_count": 43,
   "id": "455e1e2c",
   "metadata": {},
   "outputs": [],
   "source": [
    "salary_drivers = salary_drivers.drop(['Unnamed: 12','Unnamed: 13','Unnamed: 14','Unnamed: 15','Unnamed: 16','Unnamed: 17'], 1)"
   ]
  },
  {
   "cell_type": "code",
   "execution_count": 44,
   "id": "7b1d66ab",
   "metadata": {},
   "outputs": [],
   "source": [
    "salary_drivers= salary_drivers[salary_drivers['Принадлежность ТС'] == 'Собственное']"
   ]
  },
  {
   "cell_type": "code",
   "execution_count": 45,
   "id": "673cb3ef",
   "metadata": {},
   "outputs": [],
   "source": [
    "Salary_MARS_CCH = manual[manual['Group'] == 'Salary Drivers']"
   ]
  },
  {
   "cell_type": "code",
   "execution_count": 46,
   "id": "8624a306",
   "metadata": {},
   "outputs": [],
   "source": [
    "TechnicalRouteDNN = manually[['Client.1','Region.Code.1','Distance']]\n",
    "TechnicalRouteDNN = TechnicalRouteDNN.head(2)"
   ]
  },
  {
   "cell_type": "code",
   "execution_count": 47,
   "id": "5b2015e0",
   "metadata": {},
   "outputs": [],
   "source": [
    "salary_drivers = salary_drivers.merge(Salary_MARS_CCH, left_on=['Client','Region.Code'],right_on = ['Client','Region.Code'], how='outer')"
   ]
  },
  {
   "cell_type": "code",
   "execution_count": 48,
   "id": "23dc8b9a",
   "metadata": {},
   "outputs": [],
   "source": [
    "salary_drivers.rename(columns = {'NetAmount_y' : 'NetAmount.1', 'NetAmount_x' : 'NetAmount', 'Region_x' : 'Region', }, inplace = True) "
   ]
  },
  {
   "cell_type": "code",
   "execution_count": 49,
   "id": "0b55667d",
   "metadata": {},
   "outputs": [],
   "source": [
    "salary_drivers['NetAmount.1'].fillna(0, inplace=True)\n",
    "salary_drivers['Multipl'].fillna(1, inplace=True)\n",
    "salary_drivers['AdjAmount'] = salary_drivers['NetAmount.1'] + salary_drivers['NetAmount']"
   ]
  },
  {
   "cell_type": "code",
   "execution_count": 50,
   "id": "639d0024",
   "metadata": {},
   "outputs": [],
   "source": [
    "salary_drivers = salary_drivers.merge(TechnicalRouteDNN, left_on=['Region.Code'],right_on = ['Region.Code.1'], how='outer')"
   ]
  },
  {
   "cell_type": "code",
   "execution_count": 51,
   "id": "5ed58c1c",
   "metadata": {},
   "outputs": [],
   "source": [
    "salary_drivers = salary_drivers.loc[salary_drivers['Month'] == month]"
   ]
  },
  {
   "cell_type": "code",
   "execution_count": 52,
   "id": "1d8dc6c6",
   "metadata": {},
   "outputs": [],
   "source": [
    "salary_drivers.rename(columns = {'Distance' : 'TechnicalRoute'}, inplace = True) \n",
    "salary_drivers['TechnicalRoute'].fillna(0, inplace=True)"
   ]
  },
  {
   "cell_type": "code",
   "execution_count": 53,
   "id": "f50942d5",
   "metadata": {},
   "outputs": [],
   "source": [
    "salary_drivers = salary_drivers.drop(['AccType_y','Принадлежность ТС_y','Region_y','Milk_y','DNN/MC_y'], 1)"
   ]
  },
  {
   "cell_type": "code",
   "execution_count": 54,
   "id": "0ab348d8",
   "metadata": {},
   "outputs": [],
   "source": [
    "salary_drivers.rename(columns = {'Принадлежность ТС_x' : 'Принадлежность ТС', 'AccType_x' : 'AccType', 'Milk_x' : 'Milk', 'DNN/MC_x':'DNN/MC'}, inplace = True) "
   ]
  },
  {
   "cell_type": "code",
   "execution_count": 55,
   "id": "64df1a14",
   "metadata": {},
   "outputs": [],
   "source": [
    "def salary(salary_drivers):\n",
    "    if (salary_drivers['Client'] == 'DNN T1'):\n",
    "        return salary_drivers['Total km'] * salary_drivers['Multipl'] + salary_drivers['TechnicalRoute']\n",
    "    else:\n",
    "        return salary_drivers['Total km']* salary_drivers['Multipl']"
   ]
  },
  {
   "cell_type": "code",
   "execution_count": 56,
   "id": "c091158e",
   "metadata": {},
   "outputs": [],
   "source": [
    "salary_drivers['Adj total km'] = salary_drivers.apply(salary, axis=1)"
   ]
  },
  {
   "cell_type": "code",
   "execution_count": 57,
   "id": "135653e1",
   "metadata": {},
   "outputs": [],
   "source": [
    "ToDistNetAmount = (salary_drivers.groupby(['TechnicalRoute','Region.Code'])\n",
    "                    .agg({'NetAmount.1':'sum', 'Adj total km':'sum'})\n",
    "                    .reset_index())"
   ]
  },
  {
   "cell_type": "code",
   "execution_count": 58,
   "id": "9a8bb108",
   "metadata": {},
   "outputs": [],
   "source": [
    "salary_drivers = salary_drivers.merge(ToDistNetAmount, left_on=['Region.Code','TechnicalRoute'],right_on = ['Region.Code','TechnicalRoute'], how='outer')"
   ]
  },
  {
   "cell_type": "code",
   "execution_count": 59,
   "id": "cb5d8737",
   "metadata": {},
   "outputs": [],
   "source": [
    "salary_drivers.rename(columns = {'NetAmount.1_y' : 'ToDistNetAmount.1', 'Adj total km_y' : 'Region km'}, inplace = True) "
   ]
  },
  {
   "cell_type": "code",
   "execution_count": 60,
   "id": "309ecb40",
   "metadata": {},
   "outputs": [],
   "source": [
    "salary_drivers ['AdjsAmount'] = salary_drivers['NetAmount'] + salary_drivers['ToDistNetAmount.1']"
   ]
  },
  {
   "cell_type": "code",
   "execution_count": 61,
   "id": "871b04ec",
   "metadata": {},
   "outputs": [],
   "source": [
    "salary_drivers ['ClientShare'] = salary_drivers['Adj total km_x'] / salary_drivers['Region km']"
   ]
  },
  {
   "cell_type": "code",
   "execution_count": 62,
   "id": "71eaa3c8",
   "metadata": {},
   "outputs": [],
   "source": [
    "salary_drivers['PreAmount'] = salary_drivers['AdjsAmount'] * salary_drivers['ClientShare']"
   ]
  },
  {
   "cell_type": "code",
   "execution_count": 63,
   "id": "4c960d29",
   "metadata": {},
   "outputs": [],
   "source": [
    "def salary_2(salary_drivers):\n",
    "    if (salary_drivers['PreAmount'] == 0):\n",
    "        return salary_drivers['NetAmount.1_x']\n",
    "    else:\n",
    "        return salary_drivers['PreAmount']"
   ]
  },
  {
   "cell_type": "code",
   "execution_count": 64,
   "id": "18cae1ef",
   "metadata": {},
   "outputs": [],
   "source": [
    "salary_drivers['Net Amount'] = salary_drivers.apply(salary_2, axis=1).abs()"
   ]
  },
  {
   "cell_type": "code",
   "execution_count": 65,
   "id": "ba643f24",
   "metadata": {},
   "outputs": [],
   "source": [
    "#Расставим колонки в нужном порядке и укажем только те, что нам необходимы\n",
    "\n",
    "salary_drivers = salary_drivers[['Month', 'AccType', 'Costs group', 'Номенклатурная группа', 'Calc items','NetAmount','Region.Code', 'Принадлежность ТС' ,'Client', 'DNN/MC','Total km','Sum of Total km','NetAmount.1_x', 'Multipl','AdjAmount','TechnicalRoute','Adj total km_x','ToDistNetAmount.1', 'Region km', 'AdjsAmount', 'ClientShare', 'PreAmount', 'Net Amount', 'Region', 'Milk']]"
   ]
  },
  {
   "cell_type": "code",
   "execution_count": null,
   "id": "da62f305",
   "metadata": {},
   "outputs": [],
   "source": []
  },
  {
   "cell_type": "markdown",
   "id": "ca9e11b0",
   "metadata": {},
   "source": [
    "#### Сформируем данные по топливу fuel"
   ]
  },
  {
   "cell_type": "code",
   "execution_count": 66,
   "id": "5cd437f1",
   "metadata": {},
   "outputs": [],
   "source": [
    "fuel = upp_expenses[upp_expenses['Costs group'] == 'Fuel'] \n",
    "fuel = fuel.drop(['Client','Region','Code'], 1)"
   ]
  },
  {
   "cell_type": "code",
   "execution_count": 67,
   "id": "0c9a2353",
   "metadata": {},
   "outputs": [],
   "source": [
    "fuel = fuel.merge(uat_statistics, left_on=['Region.Code'],right_on = ['Region.Code'], how='outer')"
   ]
  },
  {
   "cell_type": "code",
   "execution_count": 68,
   "id": "c671837b",
   "metadata": {},
   "outputs": [],
   "source": [
    "fuel= fuel[fuel['Принадлежность ТС'] == 'Собственное']"
   ]
  },
  {
   "cell_type": "code",
   "execution_count": 69,
   "id": "8fdc7a88",
   "metadata": {},
   "outputs": [],
   "source": [
    "fuel['% of Total km'] = fuel['Total km'] / fuel['Sum of Total km']"
   ]
  },
  {
   "cell_type": "code",
   "execution_count": 70,
   "id": "207b3836",
   "metadata": {},
   "outputs": [],
   "source": [
    "fuel['Net Amount'] = fuel['NetAmount'] * fuel['% of Total km']"
   ]
  },
  {
   "cell_type": "code",
   "execution_count": 71,
   "id": "ca5e1992",
   "metadata": {},
   "outputs": [],
   "source": [
    "fuel = fuel.drop(['Unnamed: 12','Unnamed: 13','Unnamed: 14','Unnamed: 15','Unnamed: 17'], 1)"
   ]
  },
  {
   "cell_type": "markdown",
   "id": "b5a91105",
   "metadata": {},
   "source": [
    "Подготовка данных по Fuel завершена"
   ]
  },
  {
   "cell_type": "markdown",
   "id": "4685de50",
   "metadata": {},
   "source": [
    "#### Сформируем данные по лизингу"
   ]
  },
  {
   "cell_type": "code",
   "execution_count": 72,
   "id": "e15fccec",
   "metadata": {},
   "outputs": [],
   "source": [
    "Leasing_special = manual[manual['Group'] == 'Leasing'] "
   ]
  },
  {
   "cell_type": "code",
   "execution_count": 73,
   "id": "052e4d3c",
   "metadata": {},
   "outputs": [],
   "source": [
    "leasing_cost  = upp_expenses[upp_expenses['Costs group'] == 'Leasing'] \n",
    "leasing_cost = leasing_cost.drop(['Client','Region','Code'], 1)"
   ]
  },
  {
   "cell_type": "code",
   "execution_count": 74,
   "id": "4bb6978f",
   "metadata": {},
   "outputs": [],
   "source": [
    "leasing_cost = (leasing_cost.groupby([\"Month\", \"Costs group\", \"Region.Code\", \"AccType\"])\n",
    "                    .agg({'NetAmount':'sum'})\n",
    "                    .reset_index())"
   ]
  },
  {
   "cell_type": "code",
   "execution_count": 75,
   "id": "0e424b17",
   "metadata": {},
   "outputs": [],
   "source": [
    "leasing_cost  = leasing_cost.merge(uat_statistics, left_on=['Region.Code'],right_on = ['Region.Code'], how='outer')"
   ]
  },
  {
   "cell_type": "code",
   "execution_count": 76,
   "id": "d3f4e042",
   "metadata": {},
   "outputs": [],
   "source": [
    "leasing_cost= leasing_cost[leasing_cost['Принадлежность ТС'] == 'Собственное']"
   ]
  },
  {
   "cell_type": "code",
   "execution_count": 77,
   "id": "6d06ff2a",
   "metadata": {},
   "outputs": [],
   "source": [
    "leasing_cost  = leasing_cost.merge(Leasing_special, left_on=['Region.Code','Client', 'DNN/MC'],right_on = ['Region.Code','Client', 'DNN/MC'], how='outer')"
   ]
  },
  {
   "cell_type": "code",
   "execution_count": 78,
   "id": "09cf36a4",
   "metadata": {},
   "outputs": [],
   "source": [
    "leasing_cost = leasing_cost[['Month', 'Costs group', 'Region.Code','AccType_x','NetAmount_x','Принадлежность ТС_x' , 'Region_x', 'Milk_x','Client', 'DNN/MC','Turnover','Sum of Turnover', 'NetAmount_y','Multipl']]"
   ]
  },
  {
   "cell_type": "code",
   "execution_count": 79,
   "id": "56654642",
   "metadata": {},
   "outputs": [],
   "source": [
    "leasing_cost['NetAmount_y'].fillna(0, inplace=True)\n",
    "leasing_cost['Multipl'].fillna(1, inplace=True)"
   ]
  },
  {
   "cell_type": "code",
   "execution_count": 80,
   "id": "4030dec6",
   "metadata": {},
   "outputs": [],
   "source": [
    "leasing_cost['Turnover_'] = leasing_cost['Turnover'] * leasing_cost['Multipl']"
   ]
  },
  {
   "cell_type": "code",
   "execution_count": 81,
   "id": "b9186d30",
   "metadata": {},
   "outputs": [],
   "source": [
    "leasing_cost.rename(columns = {'NetAmount_x' : 'NetAmount', 'NetAmount_y_y' : 'Sum of NetAmount_','Turnover__y':'Sum of Turnover_'}, inplace = True) "
   ]
  },
  {
   "cell_type": "code",
   "execution_count": 82,
   "id": "bae7dd1c",
   "metadata": {},
   "outputs": [],
   "source": [
    "Inserted_Multiplication = (leasing_cost.groupby(['Region.Code'])\n",
    "                    .agg({'NetAmount_y':'sum', 'Turnover_':'sum'})\n",
    "                    .reset_index())"
   ]
  },
  {
   "cell_type": "code",
   "execution_count": 83,
   "id": "4a95602d",
   "metadata": {},
   "outputs": [],
   "source": [
    "leasing_cost = leasing_cost.merge(Inserted_Multiplication, left_on=['Region.Code'],right_on = ['Region.Code'], how='outer')"
   ]
  },
  {
   "cell_type": "code",
   "execution_count": 84,
   "id": "16c9fbff",
   "metadata": {},
   "outputs": [],
   "source": [
    "leasing_cost.rename(columns = {'NetAmount_x' : 'NetAmount', 'NetAmount_y_y' : 'Sum of NetAmount_','Turnover__y':'Sum of Turnover_'}, inplace = True) "
   ]
  },
  {
   "cell_type": "code",
   "execution_count": 85,
   "id": "c8f3869f",
   "metadata": {},
   "outputs": [],
   "source": [
    "leasing_cost['Adj_amount'] = leasing_cost['NetAmount'] + leasing_cost['Sum of NetAmount_']"
   ]
  },
  {
   "cell_type": "code",
   "execution_count": 86,
   "id": "cdcbcd22",
   "metadata": {},
   "outputs": [],
   "source": [
    "leasing_cost['TurnoverShare'] = leasing_cost['Turnover__x'] / leasing_cost['Sum of Turnover_']"
   ]
  },
  {
   "cell_type": "code",
   "execution_count": 87,
   "id": "54697c7f",
   "metadata": {},
   "outputs": [],
   "source": [
    "leasing_cost['PreAmount'] = leasing_cost['TurnoverShare'] * leasing_cost['Adj_amount']"
   ]
  },
  {
   "cell_type": "code",
   "execution_count": 88,
   "id": "98137059",
   "metadata": {},
   "outputs": [],
   "source": [
    "def leasing(leasing_cost):\n",
    "    if (leasing_cost['TurnoverShare'] == 0):\n",
    "        return leasing_cost['NetAmount_y_x']\n",
    "    elif (leasing_cost['Client'] == 'DNN T1'):\n",
    "        return leasing_cost['PreAmount'] - leasing_cost['NetAmount_y_x']\n",
    "    else:\n",
    "        return leasing_cost['PreAmount']"
   ]
  },
  {
   "cell_type": "code",
   "execution_count": 89,
   "id": "67fc16fa",
   "metadata": {},
   "outputs": [],
   "source": [
    "leasing_cost['Net Amount'] = leasing_cost.apply(leasing, axis=1).abs()"
   ]
  },
  {
   "cell_type": "code",
   "execution_count": 90,
   "id": "556dd12d",
   "metadata": {},
   "outputs": [],
   "source": [
    "leasing_cost.rename(columns = {'AccType_x' : 'AccType', 'Принадлежность ТС_x' : 'Принадлежность ТС','Region_x':'Region','Milk_x':'Milk','NetAmount_y_x':'NetAmount_','Turnover__x':'Turnover_'}, inplace = True) "
   ]
  },
  {
   "cell_type": "code",
   "execution_count": 91,
   "id": "a1b5eaa8",
   "metadata": {},
   "outputs": [
    {
     "data": {
      "text/html": [
       "<div>\n",
       "<style scoped>\n",
       "    .dataframe tbody tr th:only-of-type {\n",
       "        vertical-align: middle;\n",
       "    }\n",
       "\n",
       "    .dataframe tbody tr th {\n",
       "        vertical-align: top;\n",
       "    }\n",
       "\n",
       "    .dataframe thead th {\n",
       "        text-align: right;\n",
       "    }\n",
       "</style>\n",
       "<table border=\"1\" class=\"dataframe\">\n",
       "  <thead>\n",
       "    <tr style=\"text-align: right;\">\n",
       "      <th></th>\n",
       "      <th>Month</th>\n",
       "      <th>Costs group</th>\n",
       "      <th>Region.Code</th>\n",
       "      <th>AccType</th>\n",
       "      <th>NetAmount</th>\n",
       "      <th>Принадлежность ТС</th>\n",
       "      <th>Region</th>\n",
       "      <th>Milk</th>\n",
       "      <th>Client</th>\n",
       "      <th>DNN/MC</th>\n",
       "      <th>...</th>\n",
       "      <th>Sum of Turnover</th>\n",
       "      <th>NetAmount_</th>\n",
       "      <th>Multipl</th>\n",
       "      <th>Turnover_</th>\n",
       "      <th>Sum of NetAmount_</th>\n",
       "      <th>Sum of Turnover_</th>\n",
       "      <th>Adj_amount</th>\n",
       "      <th>TurnoverShare</th>\n",
       "      <th>PreAmount</th>\n",
       "      <th>Net Amount</th>\n",
       "    </tr>\n",
       "  </thead>\n",
       "  <tbody>\n",
       "    <tr>\n",
       "      <th>0</th>\n",
       "      <td>12</td>\n",
       "      <td>Leasing</td>\n",
       "      <td>BE_M</td>\n",
       "      <td>Exp</td>\n",
       "      <td>3,101,623.63</td>\n",
       "      <td>Собственное</td>\n",
       "      <td>BE</td>\n",
       "      <td>M</td>\n",
       "      <td>DNN Milk</td>\n",
       "      <td>DNN</td>\n",
       "      <td>...</td>\n",
       "      <td>353.15</td>\n",
       "      <td>0.00</td>\n",
       "      <td>1.00</td>\n",
       "      <td>353.15</td>\n",
       "      <td>0.00</td>\n",
       "      <td>353.15</td>\n",
       "      <td>3,101,623.63</td>\n",
       "      <td>1.00</td>\n",
       "      <td>3,101,623.63</td>\n",
       "      <td>3,101,623.63</td>\n",
       "    </tr>\n",
       "    <tr>\n",
       "      <th>1</th>\n",
       "      <td>12</td>\n",
       "      <td>Leasing</td>\n",
       "      <td>BE_T</td>\n",
       "      <td>Exp</td>\n",
       "      <td>20,144,965.05</td>\n",
       "      <td>Собственное</td>\n",
       "      <td>BE</td>\n",
       "      <td>T</td>\n",
       "      <td>Центр внедрения ПРОТЕК Фирма ЗАО</td>\n",
       "      <td>MC</td>\n",
       "      <td>...</td>\n",
       "      <td>2,556.70</td>\n",
       "      <td>0.00</td>\n",
       "      <td>1.00</td>\n",
       "      <td>16.32</td>\n",
       "      <td>-3,085,789.04</td>\n",
       "      <td>2,504.88</td>\n",
       "      <td>17,059,176.01</td>\n",
       "      <td>0.01</td>\n",
       "      <td>111,145.35</td>\n",
       "      <td>111,145.35</td>\n",
       "    </tr>\n",
       "  </tbody>\n",
       "</table>\n",
       "<p>2 rows × 21 columns</p>\n",
       "</div>"
      ],
      "text/plain": [
       "   Month Costs group Region.Code AccType     NetAmount Принадлежность ТС  \\\n",
       "0     12     Leasing        BE_M     Exp  3,101,623.63       Собственное   \n",
       "1     12     Leasing        BE_T     Exp 20,144,965.05       Собственное   \n",
       "\n",
       "  Region Milk                            Client DNN/MC  ...  Sum of Turnover  \\\n",
       "0     BE    M                          DNN Milk    DNN  ...           353.15   \n",
       "1     BE    T  Центр внедрения ПРОТЕК Фирма ЗАО     MC  ...         2,556.70   \n",
       "\n",
       "   NetAmount_  Multipl  Turnover_  Sum of NetAmount_  Sum of Turnover_  \\\n",
       "0        0.00     1.00     353.15               0.00            353.15   \n",
       "1        0.00     1.00      16.32      -3,085,789.04          2,504.88   \n",
       "\n",
       "     Adj_amount  TurnoverShare    PreAmount   Net Amount  \n",
       "0  3,101,623.63           1.00 3,101,623.63 3,101,623.63  \n",
       "1 17,059,176.01           0.01   111,145.35   111,145.35  \n",
       "\n",
       "[2 rows x 21 columns]"
      ]
     },
     "execution_count": 91,
     "metadata": {},
     "output_type": "execute_result"
    }
   ],
   "source": [
    "leasing_cost.head(2) #посмотрим на первые две строчки получаенного дата-фрейма (data-frame)"
   ]
  },
  {
   "cell_type": "markdown",
   "id": "19c9996d",
   "metadata": {},
   "source": [
    "#### Расчет Fix Agency Cost"
   ]
  },
  {
   "cell_type": "code",
   "execution_count": 92,
   "id": "f174184b",
   "metadata": {},
   "outputs": [],
   "source": [
    "fix_agency_cost = upp_expenses[upp_expenses['Costs group'] == 'Fix agency cost'] \n",
    "fix_agency_cost['Принадлежность ТС'] = 'Собственное'"
   ]
  },
  {
   "cell_type": "code",
   "execution_count": 93,
   "id": "5768f595",
   "metadata": {},
   "outputs": [],
   "source": [
    "def fixagency(fix_agency_cost):\n",
    "    if (fix_agency_cost['Номенклатурная группа'] == 'Данон'):\n",
    "        return 'DNN'\n",
    "    elif (fix_agency_cost['Номенклатурная группа'] == 'Центральный офис'):\n",
    "        return 'DNN'\n",
    "    else:\n",
    "        return 'MC'"
   ]
  },
  {
   "cell_type": "code",
   "execution_count": 94,
   "id": "44934296",
   "metadata": {},
   "outputs": [],
   "source": [
    "fix_agency_cost['DNN/MC'] = fix_agency_cost.apply(fixagency, axis=1)"
   ]
  },
  {
   "cell_type": "code",
   "execution_count": 95,
   "id": "74f0eceb",
   "metadata": {},
   "outputs": [],
   "source": [
    "fix_agency_cost.rename(columns = {'Code' : 'Milk', 'NetAmount' : 'Net Amount'}, inplace = True) "
   ]
  },
  {
   "cell_type": "code",
   "execution_count": 96,
   "id": "4668ff90",
   "metadata": {},
   "outputs": [
    {
     "data": {
      "text/html": [
       "<div>\n",
       "<style scoped>\n",
       "    .dataframe tbody tr th:only-of-type {\n",
       "        vertical-align: middle;\n",
       "    }\n",
       "\n",
       "    .dataframe tbody tr th {\n",
       "        vertical-align: top;\n",
       "    }\n",
       "\n",
       "    .dataframe thead th {\n",
       "        text-align: right;\n",
       "    }\n",
       "</style>\n",
       "<table border=\"1\" class=\"dataframe\">\n",
       "  <thead>\n",
       "    <tr style=\"text-align: right;\">\n",
       "      <th></th>\n",
       "      <th>Month</th>\n",
       "      <th>AccType</th>\n",
       "      <th>Costs group</th>\n",
       "      <th>Номенклатурная группа</th>\n",
       "      <th>Client</th>\n",
       "      <th>Region</th>\n",
       "      <th>Milk</th>\n",
       "      <th>Calc items</th>\n",
       "      <th>Net Amount</th>\n",
       "      <th>Region.Code</th>\n",
       "      <th>Принадлежность ТС</th>\n",
       "      <th>DNN/MC</th>\n",
       "    </tr>\n",
       "  </thead>\n",
       "  <tbody>\n",
       "    <tr>\n",
       "      <th>1</th>\n",
       "      <td>12</td>\n",
       "      <td>Exp</td>\n",
       "      <td>Fix agency cost</td>\n",
       "      <td>Данон</td>\n",
       "      <td>DNN Milk</td>\n",
       "      <td>BE</td>\n",
       "      <td>M</td>\n",
       "      <td>EBITDA</td>\n",
       "      <td>1,583,284.86</td>\n",
       "      <td>BE_M</td>\n",
       "      <td>Собственное</td>\n",
       "      <td>DNN</td>\n",
       "    </tr>\n",
       "    <tr>\n",
       "      <th>3</th>\n",
       "      <td>12</td>\n",
       "      <td>Exp</td>\n",
       "      <td>Fix agency cost</td>\n",
       "      <td>Данон</td>\n",
       "      <td>DNN Milk</td>\n",
       "      <td>YA</td>\n",
       "      <td>M</td>\n",
       "      <td>EBITDA</td>\n",
       "      <td>329,870.20</td>\n",
       "      <td>YA_M</td>\n",
       "      <td>Собственное</td>\n",
       "      <td>DNN</td>\n",
       "    </tr>\n",
       "    <tr>\n",
       "      <th>4</th>\n",
       "      <td>12</td>\n",
       "      <td>Exp</td>\n",
       "      <td>Fix agency cost</td>\n",
       "      <td>Данон</td>\n",
       "      <td>DNN T1</td>\n",
       "      <td>BE</td>\n",
       "      <td>T</td>\n",
       "      <td>DEPRECIATION</td>\n",
       "      <td>61,659.66</td>\n",
       "      <td>BE_T</td>\n",
       "      <td>Собственное</td>\n",
       "      <td>DNN</td>\n",
       "    </tr>\n",
       "  </tbody>\n",
       "</table>\n",
       "</div>"
      ],
      "text/plain": [
       "   Month AccType      Costs group Номенклатурная группа    Client Region Milk  \\\n",
       "1     12     Exp  Fix agency cost                 Данон  DNN Milk     BE    M   \n",
       "3     12     Exp  Fix agency cost                 Данон  DNN Milk     YA    M   \n",
       "4     12     Exp  Fix agency cost                 Данон    DNN T1     BE    T   \n",
       "\n",
       "     Calc items   Net Amount Region.Code Принадлежность ТС DNN/MC  \n",
       "1        EBITDA 1,583,284.86        BE_M       Собственное    DNN  \n",
       "3        EBITDA   329,870.20        YA_M       Собственное    DNN  \n",
       "4  DEPRECIATION    61,659.66        BE_T       Собственное    DNN  "
      ]
     },
     "execution_count": 96,
     "metadata": {},
     "output_type": "execute_result"
    }
   ],
   "source": [
    "fix_agency_cost.head(3)"
   ]
  },
  {
   "cell_type": "code",
   "execution_count": null,
   "id": "0d73c80b",
   "metadata": {},
   "outputs": [],
   "source": []
  },
  {
   "cell_type": "code",
   "execution_count": 97,
   "id": "cc8efda3",
   "metadata": {},
   "outputs": [],
   "source": [
    "four_employees = uat_statistics.copy(deep=False)\n",
    "\n",
    "four_employees = four_employees[four_employees['Milk'] == 'T']\n",
    "four_employees = four_employees[four_employees['Region'] != 'SP']\n",
    "\n",
    "four_employees = (four_employees.groupby([\"Region.Code\", \"Milk\"])\n",
    "                    .agg({'Total km':'sum'})\n",
    "                    .reset_index())"
   ]
  },
  {
   "cell_type": "code",
   "execution_count": 98,
   "id": "7837ae69",
   "metadata": {},
   "outputs": [],
   "source": [
    "total_distance = (four_employees.groupby([\"Milk\"])\n",
    "                    .agg({'Total km':'sum'})\n",
    "                    .reset_index())"
   ]
  },
  {
   "cell_type": "code",
   "execution_count": 99,
   "id": "51b2b3d2",
   "metadata": {},
   "outputs": [
    {
     "data": {
      "text/html": [
       "<div>\n",
       "<style scoped>\n",
       "    .dataframe tbody tr th:only-of-type {\n",
       "        vertical-align: middle;\n",
       "    }\n",
       "\n",
       "    .dataframe tbody tr th {\n",
       "        vertical-align: top;\n",
       "    }\n",
       "\n",
       "    .dataframe thead th {\n",
       "        text-align: right;\n",
       "    }\n",
       "</style>\n",
       "<table border=\"1\" class=\"dataframe\">\n",
       "  <thead>\n",
       "    <tr style=\"text-align: right;\">\n",
       "      <th></th>\n",
       "      <th>Milk</th>\n",
       "      <th>Total km</th>\n",
       "    </tr>\n",
       "  </thead>\n",
       "  <tbody>\n",
       "    <tr>\n",
       "      <th>0</th>\n",
       "      <td>T</td>\n",
       "      <td>4,657,367.91</td>\n",
       "    </tr>\n",
       "  </tbody>\n",
       "</table>\n",
       "</div>"
      ],
      "text/plain": [
       "  Milk     Total km\n",
       "0    T 4,657,367.91"
      ]
     },
     "execution_count": 99,
     "metadata": {},
     "output_type": "execute_result"
    }
   ],
   "source": [
    "total_distance"
   ]
  },
  {
   "cell_type": "code",
   "execution_count": 100,
   "id": "d189e0f6",
   "metadata": {},
   "outputs": [],
   "source": [
    "four_employees = four_employees.merge(total_distance, on=['Milk'], how='outer')"
   ]
  },
  {
   "cell_type": "code",
   "execution_count": 101,
   "id": "a9102a65",
   "metadata": {},
   "outputs": [],
   "source": [
    "four_employees.rename(columns = {'Total km_x' : 'Distance', 'Total km_y' : 'Total Distance'}, inplace = True) "
   ]
  },
  {
   "cell_type": "code",
   "execution_count": 102,
   "id": "e4239976",
   "metadata": {},
   "outputs": [],
   "source": [
    "four_employees['Division'] = four_employees['Distance'] / four_employees['Total Distance']"
   ]
  },
  {
   "cell_type": "code",
   "execution_count": 103,
   "id": "f9df20c9",
   "metadata": {},
   "outputs": [],
   "source": [
    "four_empl_to_substract = 318434.128"
   ]
  },
  {
   "cell_type": "code",
   "execution_count": 104,
   "id": "ab0e4f2a",
   "metadata": {},
   "outputs": [],
   "source": [
    "four_employees['FourEmpAlloc'] = four_employees['Division'] * four_empl_to_substract"
   ]
  },
  {
   "cell_type": "code",
   "execution_count": 105,
   "id": "31eb0a58",
   "metadata": {},
   "outputs": [
    {
     "data": {
      "text/html": [
       "<div>\n",
       "<style scoped>\n",
       "    .dataframe tbody tr th:only-of-type {\n",
       "        vertical-align: middle;\n",
       "    }\n",
       "\n",
       "    .dataframe tbody tr th {\n",
       "        vertical-align: top;\n",
       "    }\n",
       "\n",
       "    .dataframe thead th {\n",
       "        text-align: right;\n",
       "    }\n",
       "</style>\n",
       "<table border=\"1\" class=\"dataframe\">\n",
       "  <thead>\n",
       "    <tr style=\"text-align: right;\">\n",
       "      <th></th>\n",
       "      <th>Region.Code</th>\n",
       "      <th>Milk</th>\n",
       "      <th>Distance</th>\n",
       "      <th>Total Distance</th>\n",
       "      <th>Division</th>\n",
       "      <th>FourEmpAlloc</th>\n",
       "    </tr>\n",
       "  </thead>\n",
       "  <tbody>\n",
       "    <tr>\n",
       "      <th>0</th>\n",
       "      <td>BE_T</td>\n",
       "      <td>T</td>\n",
       "      <td>3,165,322.21</td>\n",
       "      <td>4,657,367.91</td>\n",
       "      <td>0.68</td>\n",
       "      <td>216,419.80</td>\n",
       "    </tr>\n",
       "    <tr>\n",
       "      <th>1</th>\n",
       "      <td>SA_T</td>\n",
       "      <td>T</td>\n",
       "      <td>131,058.80</td>\n",
       "      <td>4,657,367.91</td>\n",
       "      <td>0.03</td>\n",
       "      <td>8,960.77</td>\n",
       "    </tr>\n",
       "    <tr>\n",
       "      <th>2</th>\n",
       "      <td>YA_T</td>\n",
       "      <td>T</td>\n",
       "      <td>1,360,986.90</td>\n",
       "      <td>4,657,367.91</td>\n",
       "      <td>0.29</td>\n",
       "      <td>93,053.56</td>\n",
       "    </tr>\n",
       "  </tbody>\n",
       "</table>\n",
       "</div>"
      ],
      "text/plain": [
       "  Region.Code Milk     Distance  Total Distance  Division  FourEmpAlloc\n",
       "0        BE_T    T 3,165,322.21    4,657,367.91      0.68    216,419.80\n",
       "1        SA_T    T   131,058.80    4,657,367.91      0.03      8,960.77\n",
       "2        YA_T    T 1,360,986.90    4,657,367.91      0.29     93,053.56"
      ]
     },
     "execution_count": 105,
     "metadata": {},
     "output_type": "execute_result"
    }
   ],
   "source": [
    "four_employees"
   ]
  },
  {
   "cell_type": "markdown",
   "id": "b2ba1037",
   "metadata": {},
   "source": [
    "### Total transportation"
   ]
  },
  {
   "cell_type": "code",
   "execution_count": 106,
   "id": "5ae75316",
   "metadata": {},
   "outputs": [],
   "source": [
    "total_transportation =pd.concat([subcontractors_cost, repair_maintenance, salary_drivers, fuel, leasing_cost, fix_agency_cost, total_trs_revenue],axis=0)"
   ]
  },
  {
   "cell_type": "code",
   "execution_count": 107,
   "id": "a7bd5693",
   "metadata": {},
   "outputs": [],
   "source": [
    "total_transportation = total_transportation[[\"Costs group\", \"Принадлежность ТС\", \"Region\", \"Client\", \"Milk\", \"DNN/MC\", \"Region.Code\",  \"Net Amount\"]]"
   ]
  },
  {
   "cell_type": "code",
   "execution_count": 108,
   "id": "13194e97",
   "metadata": {},
   "outputs": [],
   "source": [
    "total_transportation['Fin Amount'] = total_transportation['Net Amount'] * -1\n",
    "total_transportation['Type'] = 'Exp'"
   ]
  },
  {
   "cell_type": "code",
   "execution_count": 109,
   "id": "5930506b",
   "metadata": {},
   "outputs": [],
   "source": [
    "total_transportation = (total_transportation.groupby([\"Type\", \"Costs group\", \"Принадлежность ТС\", \"Region\", \"Client\", \"Milk\", \"DNN/MC\", \"Region.Code\"])\n",
    "                    .agg({'Net Amount':'sum', 'Fin Amount':'sum'})\n",
    "                    .reset_index())"
   ]
  },
  {
   "cell_type": "markdown",
   "id": "8c135bf9",
   "metadata": {},
   "source": [
    "### Выгрузка полученных данных в рабочий файл excel"
   ]
  },
  {
   "cell_type": "markdown",
   "id": "948a726a",
   "metadata": {},
   "source": [
    "В самом начале мы вводили переменную writer, в которую положили путь: *S:\\Actual\\_Reporting 2022\\22 04\\Trs\\Transport 22 PY.xlsx*\n",
    "\n",
    "Теперь в этот рабочий файл внесем листы с полученными данными методом *to_excel*"
   ]
  },
  {
   "cell_type": "code",
   "execution_count": 110,
   "id": "bd8b88ca",
   "metadata": {},
   "outputs": [],
   "source": [
    "uat_rev_exp.to_excel(writer, 'УПП_Expenses')\n",
    "uat_statistics.to_excel(writer, 'UAT_Statistics')\n",
    "manual.to_excel(writer, 'Manually')\n",
    "total_transportation.to_excel(writer, 'Total Transportation')\n",
    "bonus_variances.to_excel(writer, 'Bonus')\n",
    "total_trs_revenue.to_excel(writer, 'TRS Revenue')\n",
    "subcontractors_cost.to_excel(writer, 'Subco')\n",
    "salary_drivers.to_excel(writer, 'SalaryDrivers')\n",
    "fuel.to_excel(writer, 'Fuel')\n",
    "repair_maintenance.to_excel(writer, 'Repair&Maintence')\n",
    "leasing_cost.to_excel(writer, 'Leasing')\n",
    "upp_expenses.to_excel(writer, 'УПП_Expenses')\n",
    "four_employees.to_excel(writer, 'FourEmpl')\n",
    "\n",
    "writer.save() #обязательно сохраним результат"
   ]
  },
  {
   "cell_type": "code",
   "execution_count": null,
   "id": "c9b82f08",
   "metadata": {},
   "outputs": [],
   "source": []
  },
  {
   "cell_type": "code",
   "execution_count": null,
   "id": "0b19fed0",
   "metadata": {},
   "outputs": [],
   "source": []
  }
 ],
 "metadata": {
  "kernelspec": {
   "display_name": "Python 3 (ipykernel)",
   "language": "python",
   "name": "python3"
  },
  "language_info": {
   "codemirror_mode": {
    "name": "ipython",
    "version": 3
   },
   "file_extension": ".py",
   "mimetype": "text/x-python",
   "name": "python",
   "nbconvert_exporter": "python",
   "pygments_lexer": "ipython3",
   "version": "3.9.7"
  }
 },
 "nbformat": 4,
 "nbformat_minor": 5
}
